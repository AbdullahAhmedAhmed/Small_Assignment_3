{
 "cells": [
  {
   "cell_type": "markdown",
   "id": "1c3efb9f",
   "metadata": {},
   "source": [
    "# create comperehinsive list that sum even numbers only from input number to another number and this numbers users will enter it"
   ]
  },
  {
   "cell_type": "code",
   "execution_count": 13,
   "id": "5f0fbeee",
   "metadata": {},
   "outputs": [
    {
     "name": "stdout",
     "output_type": "stream",
     "text": [
      "Enter first number1\n",
      "Enter second number10\n",
      "30\n"
     ]
    }
   ],
   "source": [
    "data1 = int(input(\"Enter first number: \"))\n",
    "data2 =int(input(\"Enter second number: \"))\n",
    "numbers = list(range(data1,data2+1))\n",
    "Sum = 0\n",
    "for x in numbers:\n",
    "    if x%2 == 0:\n",
    "        Sum = Sum + x\n",
    "print(Sum)       "
   ]
  },
  {
   "cell_type": "markdown",
   "id": "b979261a",
   "metadata": {},
   "source": [
    "# Find Largest and Smallest Numbers in a List"
   ]
  },
  {
   "cell_type": "code",
   "execution_count": 48,
   "id": "9d45c3ce",
   "metadata": {},
   "outputs": [
    {
     "name": "stdout",
     "output_type": "stream",
     "text": [
      "The largest number is 4000 The Smallest number is -2 \n"
     ]
    }
   ],
   "source": [
    "numbers = [-2,1,0,1000,23,4000]\n",
    "largest_number = numbers[0]\n",
    "Smallest_number = numbers[0]\n",
    "for num in  numbers:\n",
    "        if num<Smallest_number:\n",
    "            Smallest_number = num\n",
    "        elif num> largest_number:\n",
    "            largest_number = num\n",
    "\n",
    "print(f\"The largest number is {largest_number} The Smallest number is {Smallest_number} \")"
   ]
  },
  {
   "cell_type": "markdown",
   "id": "7cd733fe",
   "metadata": {},
   "source": [
    "# Count Occurrences of a Character in a String"
   ]
  },
  {
   "cell_type": "code",
   "execution_count": 58,
   "id": "1ad7b19a",
   "metadata": {},
   "outputs": [
    {
     "name": "stdout",
     "output_type": "stream",
     "text": [
      "enter string or word: asjdbfyaeiwesfdof\n",
      "enter Character to count its occurrences in string: s\n",
      "the occurance of Character s equal 2\n"
     ]
    }
   ],
   "source": [
    "word = input(\"enter string or word: \")\n",
    "indata = input(\"enter Character to count its occurrences in string: \")\n",
    "count = 0\n",
    "for x in word:\n",
    "    if x == indata:\n",
    "        count = count +1\n",
    "print(f\"the occurance of Character {indata} equal {count }\")"
   ]
  },
  {
   "cell_type": "markdown",
   "id": "c5b5a3f4",
   "metadata": {},
   "source": [
    "# Find Length of Longest Word in a Sentence"
   ]
  },
  {
   "cell_type": "code",
   "execution_count": 81,
   "id": "3ac3c6fc",
   "metadata": {},
   "outputs": [
    {
     "name": "stdout",
     "output_type": "stream",
     "text": [
      "Please enter a Sentence: jnsd ns jjnjaisn jin \n",
      "8\n",
      "jjnjaisn\n"
     ]
    }
   ],
   "source": [
    "Sentence = input(\"Please enter a Sentence: \")\n",
    "Word = Sentence.split()\n",
    "Longest_length = len(Word[0])\n",
    "longest_word = Word[0]\n",
    "for x in  Word:\n",
    "    if len(x) > Longest_word:\n",
    "        Longest_length = len(x)\n",
    "        longest_word = x\n",
    "print(Longest_length)\n",
    "    \n",
    "print(longest_word)"
   ]
  },
  {
   "cell_type": "markdown",
   "id": "4a5b5e7f",
   "metadata": {},
   "source": [
    "# Sort a List of Numbers in Ascending and Descending Order\n"
   ]
  },
  {
   "cell_type": "code",
   "execution_count": 89,
   "id": "a5e8e3d9",
   "metadata": {},
   "outputs": [
    {
     "name": "stdout",
     "output_type": "stream",
     "text": [
      "Ascending numbers [1, 2, 5, 34, 64, 344] Descending number [344, 64, 34, 5, 2, 1]\n"
     ]
    }
   ],
   "source": [
    "list_numbers = [1,34,344,5,64,2]\n",
    "Ascending= sorted(list_numbers)\n",
    "Descending = sorted(list_numbers,reverse=True)\n",
    "print(f\"Ascending numbers {Ascending} Descending number {Descending}\")"
   ]
  },
  {
   "cell_type": "markdown",
   "id": "05f37913",
   "metadata": {},
   "source": [
    "# Program to remove all duplicates from a list:"
   ]
  },
  {
   "cell_type": "code",
   "execution_count": 90,
   "id": "9a540215",
   "metadata": {},
   "outputs": [
    {
     "data": {
      "text/plain": [
       "{1, 2, 5, 34, 64, 344}"
      ]
     },
     "execution_count": 90,
     "metadata": {},
     "output_type": "execute_result"
    }
   ],
   "source": [
    "number = [1,34,344,5,64,2,344,344,242,242,44,44,44,5,5,5,5]\n",
    "unique_number =set(list_numbers)\n",
    "if"
   ]
  },
  {
   "cell_type": "markdown",
   "id": "b09ef662",
   "metadata": {},
   "source": [
    "# create calculator the add - subtract - divide - multiply two numbers and can check if number is odd or even"
   ]
  },
  {
   "cell_type": "code",
   "execution_count": 97,
   "id": "07bba890",
   "metadata": {},
   "outputs": [
    {
     "name": "stdout",
     "output_type": "stream",
     "text": [
      "choose from the following option Add =1 , Subtract =2 , Multiply =3 ,Divide=4 ,check whether it even or not = 54\n",
      "Enter first number678\n",
      "Enter second number32.89\n",
      "result: 20.614168440255398\n"
     ]
    }
   ],
   "source": [
    "def add(data1,data2):\n",
    "    return data1 +data2\n",
    "def subtract(data1,data2):\n",
    "    return data1 -data2\n",
    "def multiply(data1,data2):\n",
    "    return data1 *data2\n",
    "def divide(data1,data2):\n",
    "    return data1 /data2\n",
    "def checkeven(data1,data2):\n",
    "    return data1%2 == 0 and data2%2 ==0\n",
    "choice =input(\"choose from the following option Add =1 , Subtract =2 , Multiply =3 ,Divide=4 ,check whether it even or not = 5\")\n",
    "data1 = float(input(\"Enter first number\"))\n",
    "data2 = float(input(\"Enter second number\"))\n",
    "if choice =='1':\n",
    "    print(f\"result: {add(data1,data2)}\")\n",
    "elif choice =='2':\n",
    "    print(f\"result: {subtract(data1,data2)}\")\n",
    "elif choice =='3':\n",
    "    print(f\"result: {multiply(data1,data2)}\")\n",
    "elif choice =='4':\n",
    "    print(f\"result: {divide(data1,data2)}\")\n",
    "elif choice =='5':\n",
    "    print(f\"result: {checkeven(data1,data2)}\")\n",
    "\n",
    "\n"
   ]
  },
  {
   "cell_type": "code",
   "execution_count": null,
   "id": "43ec3ac5",
   "metadata": {},
   "outputs": [],
   "source": []
  }
 ],
 "metadata": {
  "kernelspec": {
   "display_name": "Python 3 (ipykernel)",
   "language": "python",
   "name": "python3"
  },
  "language_info": {
   "codemirror_mode": {
    "name": "ipython",
    "version": 3
   },
   "file_extension": ".py",
   "mimetype": "text/x-python",
   "name": "python",
   "nbconvert_exporter": "python",
   "pygments_lexer": "ipython3",
   "version": "3.10.9"
  }
 },
 "nbformat": 4,
 "nbformat_minor": 5
}
